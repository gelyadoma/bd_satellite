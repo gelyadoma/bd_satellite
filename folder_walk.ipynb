{
 "cells": [
  {
   "cell_type": "code",
   "execution_count": 4,
   "metadata": {},
   "outputs": [],
   "source": [
    "import os\n",
    "import re \n",
    "\n",
    "# есть еще пара способ прохода по дереву каталога\n",
    "\n",
    "imd_path = []  # список файлов метаданных\n",
    "tif_path = [] \n",
    "folders = []\n",
    "path_folder = os.walk('./pars/')\n",
    "for dirpath, dirs, files  in path_folder:\n",
    "    print(dirpath)\n",
    "    # отбирает только те папки которые состоят из чисел\n",
    "    # не обязательно если в директории кроме папок продуктов ничего нет\n",
    "    pattern = re.compile(r'^[0-9]+.\\d{2}$') \n",
    "    # matches = [subdir for subdir in dirs if pattern.match(subdir)]\n",
    "    # print(matches)\n",
    "    for subdir in dirs:\n",
    "        if pattern.match(subdir):\n",
    "            path = os.path.join(path_folder, subdir)\n",
    "            print(path)\n",
    "\n",
    "# print(folders)"
   ]
  }
 ],
 "metadata": {
  "kernelspec": {
   "display_name": "venvdb",
   "language": "python",
   "name": "python3"
  },
  "language_info": {
   "codemirror_mode": {
    "name": "ipython",
    "version": 3
   },
   "file_extension": ".py",
   "mimetype": "text/x-python",
   "name": "python",
   "nbconvert_exporter": "python",
   "pygments_lexer": "ipython3",
   "version": "3.11.3"
  },
  "orig_nbformat": 4
 },
 "nbformat": 4,
 "nbformat_minor": 2
}
