{
 "cells": [
  {
   "cell_type": "code",
   "execution_count": 11,
   "metadata": {},
   "outputs": [
    {
     "ename": "ValueError",
     "evalue": "not enough values to unpack (expected 3, got 1)",
     "output_type": "error",
     "traceback": [
      "\u001b[1;31m---------------------------------------------------------------------------\u001b[0m",
      "\u001b[1;31mValueError\u001b[0m                                Traceback (most recent call last)",
      "Cell \u001b[1;32mIn[11], line 18\u001b[0m\n\u001b[0;32m     16\u001b[0m \u001b[39mif\u001b[39;00m pattern\u001b[39m.\u001b[39mmatch(subdir):\n\u001b[0;32m     17\u001b[0m     path \u001b[39m=\u001b[39m os\u001b[39m.\u001b[39mpath\u001b[39m.\u001b[39mjoin(path_folder, subdir)\n\u001b[1;32m---> 18\u001b[0m     \u001b[39mfor\u001b[39;00m path, dirnamem, filenames \u001b[39min\u001b[39;00m path:\n\u001b[0;32m     19\u001b[0m         \u001b[39mfor\u001b[39;00m filename \u001b[39min\u001b[39;00m filenames:   \u001b[39m# генерит пути с названием файлов\u001b[39;00m\n\u001b[0;32m     20\u001b[0m             files \u001b[39m=\u001b[39m os\u001b[39m.\u001b[39mpath\u001b[39m.\u001b[39mjoin(dirpath, filename)\n",
      "\u001b[1;31mValueError\u001b[0m: not enough values to unpack (expected 3, got 1)"
     ]
    }
   ],
   "source": [
    "import os\n",
    "import re \n",
    "\n",
    "imd_path = []  # список файлов метаданных\n",
    "tif_path = []\n",
    "# есть еще пара способ прохода по дереву каталога\n",
    "path_folder = os.walk('../bd_satellite/')\n",
    "for path_folder, dirs, files in path_folder:\n",
    "    # print(dirpath)\n",
    "    # отбирает только те папки которые состоят из чисел\n",
    "    # не обязательно если в директории кроме папок продуктов ничего нет\n",
    "    pattern = re.compile(r'^[0-9]+.\\d{2}$') \n",
    "    # matches = [subdir for subdir in dirs if pattern.match(subdir)]\n",
    "    # print(matches)\n",
    "    for subdir in dirs:\n",
    "        if pattern.match(subdir):\n",
    "            path = os.path.join(path_folder, subdir)\n",
    "            for path, dirnamem, filenames in path:\n",
    "                for filename in filenames:   # генерит пути с названием файлов\n",
    "                    files = os.path.join(path, filename)\n",
    "                    match_imd = re.search(r'.IMD', files)\n",
    "                    match_tif = re.search(r'.TIF$', files)\n",
    "                    if os.path.isfile(files) and match_imd:\n",
    "                        imd_path.append(files)\n",
    "                    elif os.path.isfile(files) and match_tif:\n",
    "                        tif_path.append(files)\n",
    "            print(tif_path)\n",
    "            print(tif_path)\n"
   ]
  }
 ],
 "metadata": {
  "kernelspec": {
   "display_name": "venvdb",
   "language": "python",
   "name": "python3"
  },
  "language_info": {
   "codemirror_mode": {
    "name": "ipython",
    "version": 3
   },
   "file_extension": ".py",
   "mimetype": "text/x-python",
   "name": "python",
   "nbconvert_exporter": "python",
   "pygments_lexer": "ipython3",
   "version": "3.11.3"
  },
  "orig_nbformat": 4
 },
 "nbformat": 4,
 "nbformat_minor": 2
}
